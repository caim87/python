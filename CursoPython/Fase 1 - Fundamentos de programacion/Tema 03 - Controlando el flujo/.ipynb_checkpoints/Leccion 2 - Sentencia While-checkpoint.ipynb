{
 "cells": [
  {
   "cell_type": "code",
   "execution_count": 11,
   "metadata": {},
   "outputs": [
    {
     "name": "stdout",
     "output_type": "stream",
     "text": [
      "c equals 1\n",
      "c equals 2\n",
      "c equals 3\n",
      "c equals 4\n",
      "c equals 5\n",
      "c equals 6\n",
      "done\n"
     ]
    }
   ],
   "source": [
    "c = 0\n",
    "while c <= 5:\n",
    "    c+=1\n",
    "    print (\"c equals\", c)\n",
    "else:\n",
    "    print(\"done\")"
   ]
  },
  {
   "cell_type": "code",
   "execution_count": 12,
   "metadata": {},
   "outputs": [
    {
     "name": "stdout",
     "output_type": "stream",
     "text": [
      "c equals 1\n",
      "rompemos el bluce cuando c vale 2\n"
     ]
    }
   ],
   "source": [
    "c = 0\n",
    "while c <= 5:\n",
    "    c+=1\n",
    "    if (c==2):\n",
    "        print (\"rompemos el bluce cuando c vale 2\")\n",
    "        break\n",
    "    print (\"c equals\", c)\n",
    "else:\n",
    "    print(\"done\")"
   ]
  },
  {
   "cell_type": "code",
   "execution_count": 17,
   "metadata": {},
   "outputs": [
    {
     "name": "stdout",
     "output_type": "stream",
     "text": [
      "c equals 1\n",
      "c equals 2\n",
      "c equals 3\n",
      "continuamos con la iteracion 4\n",
      "c equals 5\n",
      "c equals 6\n",
      "done\n"
     ]
    }
   ],
   "source": [
    "c = 0\n",
    "while c <= 5:\n",
    "    c+=1\n",
    "    if (c==4):\n",
    "        print (\"continuamos con la iteracion 4\")\n",
    "        continue\n",
    "    print (\"c equals\", c)\n",
    "else:\n",
    "    print(\"done\")"
   ]
  },
  {
   "cell_type": "code",
   "execution_count": null,
   "metadata": {},
   "outputs": [],
   "source": [
    "print (\"Menu interactivo\")\n",
    "while (True):\n",
    "    print(\"\"\"Que quieres haacer\n",
    "          1) Saludar\n",
    "          2) Sumar dos numers\n",
    "          3) Salir\"\"\")\n",
    "    opcion = input()\n",
    "    if opcion == 1:\n",
    "        print (\"HOLA\")\n",
    "    elif opcion == 2:\n",
    "        numero1 = float (input())\n",
    "        numero2 = float (input())\n",
    "        suma = numero1 + numero2\n",
    "        print (\"Este es el resultado de tu suma\", suma)\n",
    "    elif opcion == 3:\n",
    "            print(\"Adios\")\n",
    "            break"
   ]
  },
  {
   "cell_type": "code",
   "execution_count": 22,
   "metadata": {},
   "outputs": [
    {
     "name": "stdout",
     "output_type": "stream",
     "text": [
      "Menu interactivo\n",
      "Que quieres haacer\n",
      "          1) Saludar\n",
      "          2) Sumar dos numers\n",
      "          3) Salir\n",
      "1\n",
      "HOLA\n",
      "Que quieres haacer\n",
      "          1) Saludar\n",
      "          2) Sumar dos numers\n",
      "          3) Salir\n",
      "2\n",
      "50\n",
      "50\n",
      "Este es el resultado de tu suma 100.0\n",
      "Que quieres haacer\n",
      "          1) Saludar\n",
      "          2) Sumar dos numers\n",
      "          3) Salir\n",
      "3\n",
      "Adios\n"
     ]
    }
   ],
   "source": [
    "print (\"Menu interactivo\")\n",
    "while (True):\n",
    "    print(\"\"\"Que quieres haacer\n",
    "          1) Saludar\n",
    "          2) Sumar dos numers\n",
    "          3) Salir\"\"\")\n",
    "    opcion = input ()\n",
    "    if opcion == '1':\n",
    "        print (\"HOLA\")\n",
    "    elif opcion == '2':\n",
    "        numero1 = float (input())\n",
    "        numero2 = float (input())\n",
    "        suma = numero1 + numero2\n",
    "        print (\"Este es el resultado de tu suma\", suma)\n",
    "    elif opcion == '3':\n",
    "            print(\"Adios\")\n",
    "            break\n",
    "            "
   ]
  },
  {
   "cell_type": "code",
   "execution_count": null,
   "metadata": {},
   "outputs": [],
   "source": []
  },
  {
   "cell_type": "code",
   "execution_count": null,
   "metadata": {},
   "outputs": [],
   "source": []
  }
 ],
 "metadata": {
  "kernelspec": {
   "display_name": "Python 3",
   "language": "python",
   "name": "python3"
  }
 },
 "nbformat": 4,
 "nbformat_minor": 1
}
